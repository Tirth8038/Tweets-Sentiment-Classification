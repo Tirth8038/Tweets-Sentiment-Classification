{
  "nbformat": 4,
  "nbformat_minor": 0,
  "metadata": {
    "colab": {
      "name": "problemset5main.ipynb",
      "provenance": [],
      "collapsed_sections": []
    },
    "kernelspec": {
      "name": "python3",
      "display_name": "Python 3"
    },
    "language_info": {
      "name": "python"
    },
    "accelerator": "GPU"
  },
  "cells": [
    {
      "cell_type": "markdown",
      "metadata": {
        "id": "FjJSy2b8EEOk"
      },
      "source": [
        "# **TWEETS CLASSIFICATION MODEL**\n",
        "In this Problem Set, we have to build a Text Classifier which classifies the Twitter Messages regarding Covid Situation into 5 categories: Extremely Negative (0), Negative (1),\n",
        "Neutral (2), Positive (3), Extremely Positive (4). \n"
      ]
    },
    {
      "cell_type": "code",
      "metadata": {
        "id": "SVdaWntFCXyi"
      },
      "source": [
        "#Importing Necessary Libraries\n",
        "import pandas as pd\n",
        "import numpy as np\n",
        "import matplotlib.pyplot as plt\n",
        "from sklearn.model_selection import train_test_split"
      ],
      "execution_count": 1,
      "outputs": []
    },
    {
      "cell_type": "markdown",
      "metadata": {
        "id": "D0TCTBGlFAVD"
      },
      "source": [
        "**DATA EXPLORATION**"
      ]
    },
    {
      "cell_type": "code",
      "metadata": {
        "colab": {
          "base_uri": "https://localhost:8080/"
        },
        "id": "CJ8u7C76kjKD",
        "outputId": "8505cbfe-235a-416b-d67b-7ce403c44ee5"
      },
      "source": [
        "#Uploading the files to Google Colab\n",
        "from google.colab import drive\n",
        "drive.mount('/content/drive')"
      ],
      "execution_count": 2,
      "outputs": [
        {
          "output_type": "stream",
          "text": [
            "Drive already mounted at /content/drive; to attempt to forcibly remount, call drive.mount(\"/content/drive\", force_remount=True).\n"
          ],
          "name": "stdout"
        }
      ]
    },
    {
      "cell_type": "code",
      "metadata": {
        "id": "MuI37klnFJOV"
      },
      "source": [
        "#Loading the Necessary Files\n",
        "tweet_data=pd.read_csv('/content/drive/MyDrive/A5/ps5_tweets_text.csv')\n",
        "label_data=pd.read_csv('/content/drive/MyDrive/A5/ps5_tweets_labels.csv')\n",
        "nlabel_data=pd.read_csv('/content/drive/MyDrive/A5/ps5_tweets_labels_as_numbers.csv')\n",
        "kaggle_data=pd.read_csv('/content/drive/MyDrive/A5/ps5_tweets_text_for_the_kaggle_competition.csv')"
      ],
      "execution_count": 3,
      "outputs": []
    },
    {
      "cell_type": "code",
      "metadata": {
        "colab": {
          "base_uri": "https://localhost:8080/"
        },
        "id": "kXW76BclGA8I",
        "outputId": "1a14f445-27da-4666-9c7d-1c8c39eb0178"
      },
      "source": [
        "#Shape of the Tweet Dataset\n",
        "print(\"Shape of the Tweet Dataset=\",tweet_data.shape)\n",
        "print(\"Shape of the Label Dataset=\",label_data.shape)\n",
        "print(\"Shape of the Numerical Label Dataset=\",nlabel_data.shape)\n",
        "print(\"Shape of the Kaggle Dataset=\",kaggle_data.shape)"
      ],
      "execution_count": 4,
      "outputs": [
        {
          "output_type": "stream",
          "text": [
            "Shape of the Tweet Dataset= (37041, 2)\n",
            "Shape of the Label Dataset= (37041, 2)\n",
            "Shape of the Numerical Label Dataset= (37041, 2)\n",
            "Shape of the Kaggle Dataset= (3798, 2)\n"
          ],
          "name": "stdout"
        }
      ]
    },
    {
      "cell_type": "code",
      "metadata": {
        "colab": {
          "base_uri": "https://localhost:8080/",
          "height": 204
        },
        "id": "3-nBvRBoLg5m",
        "outputId": "5c6a6ee4-e1de-42fd-a954-f015792a3849"
      },
      "source": [
        "#Twitter Data Display\n",
        "tweet_data.head()"
      ],
      "execution_count": 5,
      "outputs": [
        {
          "output_type": "execute_result",
          "data": {
            "text/html": [
              "<div>\n",
              "<style scoped>\n",
              "    .dataframe tbody tr th:only-of-type {\n",
              "        vertical-align: middle;\n",
              "    }\n",
              "\n",
              "    .dataframe tbody tr th {\n",
              "        vertical-align: top;\n",
              "    }\n",
              "\n",
              "    .dataframe thead th {\n",
              "        text-align: right;\n",
              "    }\n",
              "</style>\n",
              "<table border=\"1\" class=\"dataframe\">\n",
              "  <thead>\n",
              "    <tr style=\"text-align: right;\">\n",
              "      <th></th>\n",
              "      <th>Id</th>\n",
              "      <th>Tweet</th>\n",
              "    </tr>\n",
              "  </thead>\n",
              "  <tbody>\n",
              "    <tr>\n",
              "      <th>0</th>\n",
              "      <td>0</td>\n",
              "      <td>https://t.co/UpjxfOgQs8\\r\\r\\n\\r\\r\\nGaisss! Ple...</td>\n",
              "    </tr>\n",
              "    <tr>\n",
              "      <th>1</th>\n",
              "      <td>1</td>\n",
              "      <td>@mygovindia Today just after a week of lockdow...</td>\n",
              "    </tr>\n",
              "    <tr>\n",
              "      <th>2</th>\n",
              "      <td>2</td>\n",
              "      <td>Tuskys partners with Amref to provide on groun...</td>\n",
              "    </tr>\n",
              "    <tr>\n",
              "      <th>3</th>\n",
              "      <td>3</td>\n",
              "      <td>@chrissyteigen are u doing ur own grocery shop...</td>\n",
              "    </tr>\n",
              "    <tr>\n",
              "      <th>4</th>\n",
              "      <td>4</td>\n",
              "      <td>UK Critical Care Nurse Cries at Empty SuperMar...</td>\n",
              "    </tr>\n",
              "  </tbody>\n",
              "</table>\n",
              "</div>"
            ],
            "text/plain": [
              "   Id                                              Tweet\n",
              "0   0  https://t.co/UpjxfOgQs8\\r\\r\\n\\r\\r\\nGaisss! Ple...\n",
              "1   1  @mygovindia Today just after a week of lockdow...\n",
              "2   2  Tuskys partners with Amref to provide on groun...\n",
              "3   3  @chrissyteigen are u doing ur own grocery shop...\n",
              "4   4  UK Critical Care Nurse Cries at Empty SuperMar..."
            ]
          },
          "metadata": {
            "tags": []
          },
          "execution_count": 5
        }
      ]
    },
    {
      "cell_type": "code",
      "metadata": {
        "colab": {
          "base_uri": "https://localhost:8080/",
          "height": 204
        },
        "id": "LjKSeUxlMIcI",
        "outputId": "57c48f2b-ce2e-4dc2-db31-f7703f3ad90b"
      },
      "source": [
        "#Twitter Data Labels Display\n",
        "label_data.head()"
      ],
      "execution_count": 6,
      "outputs": [
        {
          "output_type": "execute_result",
          "data": {
            "text/html": [
              "<div>\n",
              "<style scoped>\n",
              "    .dataframe tbody tr th:only-of-type {\n",
              "        vertical-align: middle;\n",
              "    }\n",
              "\n",
              "    .dataframe tbody tr th {\n",
              "        vertical-align: top;\n",
              "    }\n",
              "\n",
              "    .dataframe thead th {\n",
              "        text-align: right;\n",
              "    }\n",
              "</style>\n",
              "<table border=\"1\" class=\"dataframe\">\n",
              "  <thead>\n",
              "    <tr style=\"text-align: right;\">\n",
              "      <th></th>\n",
              "      <th>Id</th>\n",
              "      <th>Sentiment</th>\n",
              "    </tr>\n",
              "  </thead>\n",
              "  <tbody>\n",
              "    <tr>\n",
              "      <th>0</th>\n",
              "      <td>0</td>\n",
              "      <td>Extremely Positive</td>\n",
              "    </tr>\n",
              "    <tr>\n",
              "      <th>1</th>\n",
              "      <td>1</td>\n",
              "      <td>Negative</td>\n",
              "    </tr>\n",
              "    <tr>\n",
              "      <th>2</th>\n",
              "      <td>2</td>\n",
              "      <td>Neutral</td>\n",
              "    </tr>\n",
              "    <tr>\n",
              "      <th>3</th>\n",
              "      <td>3</td>\n",
              "      <td>Negative</td>\n",
              "    </tr>\n",
              "    <tr>\n",
              "      <th>4</th>\n",
              "      <td>4</td>\n",
              "      <td>Extremely Negative</td>\n",
              "    </tr>\n",
              "  </tbody>\n",
              "</table>\n",
              "</div>"
            ],
            "text/plain": [
              "   Id           Sentiment\n",
              "0   0  Extremely Positive\n",
              "1   1            Negative\n",
              "2   2             Neutral\n",
              "3   3            Negative\n",
              "4   4  Extremely Negative"
            ]
          },
          "metadata": {
            "tags": []
          },
          "execution_count": 6
        }
      ]
    },
    {
      "cell_type": "code",
      "metadata": {
        "colab": {
          "base_uri": "https://localhost:8080/",
          "height": 204
        },
        "id": "UpCSGF3NNLhM",
        "outputId": "df858652-4efd-4c31-9d9e-3d188cf17f96"
      },
      "source": [
        "#Numerical Twitter Data Labels Display\n",
        "nlabel_data.head()"
      ],
      "execution_count": 7,
      "outputs": [
        {
          "output_type": "execute_result",
          "data": {
            "text/html": [
              "<div>\n",
              "<style scoped>\n",
              "    .dataframe tbody tr th:only-of-type {\n",
              "        vertical-align: middle;\n",
              "    }\n",
              "\n",
              "    .dataframe tbody tr th {\n",
              "        vertical-align: top;\n",
              "    }\n",
              "\n",
              "    .dataframe thead th {\n",
              "        text-align: right;\n",
              "    }\n",
              "</style>\n",
              "<table border=\"1\" class=\"dataframe\">\n",
              "  <thead>\n",
              "    <tr style=\"text-align: right;\">\n",
              "      <th></th>\n",
              "      <th>Id</th>\n",
              "      <th>Label</th>\n",
              "    </tr>\n",
              "  </thead>\n",
              "  <tbody>\n",
              "    <tr>\n",
              "      <th>0</th>\n",
              "      <td>0</td>\n",
              "      <td>4</td>\n",
              "    </tr>\n",
              "    <tr>\n",
              "      <th>1</th>\n",
              "      <td>1</td>\n",
              "      <td>1</td>\n",
              "    </tr>\n",
              "    <tr>\n",
              "      <th>2</th>\n",
              "      <td>2</td>\n",
              "      <td>2</td>\n",
              "    </tr>\n",
              "    <tr>\n",
              "      <th>3</th>\n",
              "      <td>3</td>\n",
              "      <td>1</td>\n",
              "    </tr>\n",
              "    <tr>\n",
              "      <th>4</th>\n",
              "      <td>4</td>\n",
              "      <td>0</td>\n",
              "    </tr>\n",
              "  </tbody>\n",
              "</table>\n",
              "</div>"
            ],
            "text/plain": [
              "   Id  Label\n",
              "0   0      4\n",
              "1   1      1\n",
              "2   2      2\n",
              "3   3      1\n",
              "4   4      0"
            ]
          },
          "metadata": {
            "tags": []
          },
          "execution_count": 7
        }
      ]
    },
    {
      "cell_type": "code",
      "metadata": {
        "colab": {
          "base_uri": "https://localhost:8080/",
          "height": 286
        },
        "id": "O4dnX8vTWOYc",
        "outputId": "7edeb7c1-3e09-436c-88aa-792c4051c40a"
      },
      "source": [
        "#Checking for Null Values one by one for all files\n",
        "import seaborn as sns\n",
        "sns.heatmap(tweet_data.isnull())"
      ],
      "execution_count": 8,
      "outputs": [
        {
          "output_type": "execute_result",
          "data": {
            "text/plain": [
              "<matplotlib.axes._subplots.AxesSubplot at 0x7f15e6987510>"
            ]
          },
          "metadata": {
            "tags": []
          },
          "execution_count": 8
        },
        {
          "output_type": "display_data",
          "data": {
            "image/png": "[encoded data removed]",
            "text/plain": [
              "<Figure size 432x288 with 2 Axes>"
            ]
          },
          "metadata": {
            "tags": [],
            "needs_background": "light"
          }
        }
      ]
    },
    {
      "cell_type": "code",
      "metadata": {
        "id": "e1CnG4JcXL-c"
      },
      "source": [
        "#Dropping the Duplicate Values if Any\n",
        "tweet_data.drop_duplicates(inplace= True)\n",
        "kaggle_data.drop_duplicates(inplace=True)"
      ],
      "execution_count": 9,
      "outputs": []
    },
    {
      "cell_type": "code",
      "metadata": {
        "colab": {
          "base_uri": "https://localhost:8080/"
        },
        "id": "2TDB0v01YI4T",
        "outputId": "9fa0d843-7ef0-4d43-93f6-df0309b57eae"
      },
      "source": [
        "#Shape of File After Dropping Duplicates\n",
        "print(\" Shape of File after dropping duplicates: \",tweet_data.shape)"
      ],
      "execution_count": 10,
      "outputs": [
        {
          "output_type": "stream",
          "text": [
            " Shape of File after dropping duplicates:  (37041, 2)\n"
          ],
          "name": "stdout"
        }
      ]
    },
    {
      "cell_type": "markdown",
      "metadata": {
        "id": "fMKH1gNlZaIp"
      },
      "source": [
        "**EXPLORATORY DATA ANALYSIS**"
      ]
    },
    {
      "cell_type": "code",
      "metadata": {
        "id": "afJxbCj4g23F"
      },
      "source": [
        "#Merging 2 Labels files for EDA\n",
        "EDA = pd.merge(label_data, nlabel_data, \n",
        "                   on='Id', \n",
        "                   how='left')"
      ],
      "execution_count": 11,
      "outputs": []
    },
    {
      "cell_type": "code",
      "metadata": {
        "colab": {
          "base_uri": "https://localhost:8080/",
          "height": 419
        },
        "id": "MrgJ1sOchC7p",
        "outputId": "c3107a08-fccc-490e-ccd0-90b61e610b80"
      },
      "source": [
        "EDA"
      ],
      "execution_count": 12,
      "outputs": [
        {
          "output_type": "execute_result",
          "data": {
            "text/html": [
              "<div>\n",
              "<style scoped>\n",
              "    .dataframe tbody tr th:only-of-type {\n",
              "        vertical-align: middle;\n",
              "    }\n",
              "\n",
              "    .dataframe tbody tr th {\n",
              "        vertical-align: top;\n",
              "    }\n",
              "\n",
              "    .dataframe thead th {\n",
              "        text-align: right;\n",
              "    }\n",
              "</style>\n",
              "<table border=\"1\" class=\"dataframe\">\n",
              "  <thead>\n",
              "    <tr style=\"text-align: right;\">\n",
              "      <th></th>\n",
              "      <th>Id</th>\n",
              "      <th>Sentiment</th>\n",
              "      <th>Label</th>\n",
              "    </tr>\n",
              "  </thead>\n",
              "  <tbody>\n",
              "    <tr>\n",
              "      <th>0</th>\n",
              "      <td>0</td>\n",
              "      <td>Extremely Positive</td>\n",
              "      <td>4</td>\n",
              "    </tr>\n",
              "    <tr>\n",
              "      <th>1</th>\n",
              "      <td>1</td>\n",
              "      <td>Negative</td>\n",
              "      <td>1</td>\n",
              "    </tr>\n",
              "    <tr>\n",
              "      <th>2</th>\n",
              "      <td>2</td>\n",
              "      <td>Neutral</td>\n",
              "      <td>2</td>\n",
              "    </tr>\n",
              "    <tr>\n",
              "      <th>3</th>\n",
              "      <td>3</td>\n",
              "      <td>Negative</td>\n",
              "      <td>1</td>\n",
              "    </tr>\n",
              "    <tr>\n",
              "      <th>4</th>\n",
              "      <td>4</td>\n",
              "      <td>Extremely Negative</td>\n",
              "      <td>0</td>\n",
              "    </tr>\n",
              "    <tr>\n",
              "      <th>...</th>\n",
              "      <td>...</td>\n",
              "      <td>...</td>\n",
              "      <td>...</td>\n",
              "    </tr>\n",
              "    <tr>\n",
              "      <th>37036</th>\n",
              "      <td>37036</td>\n",
              "      <td>Negative</td>\n",
              "      <td>1</td>\n",
              "    </tr>\n",
              "    <tr>\n",
              "      <th>37037</th>\n",
              "      <td>37037</td>\n",
              "      <td>Negative</td>\n",
              "      <td>1</td>\n",
              "    </tr>\n",
              "    <tr>\n",
              "      <th>37038</th>\n",
              "      <td>37038</td>\n",
              "      <td>Extremely Negative</td>\n",
              "      <td>0</td>\n",
              "    </tr>\n",
              "    <tr>\n",
              "      <th>37039</th>\n",
              "      <td>37039</td>\n",
              "      <td>Neutral</td>\n",
              "      <td>2</td>\n",
              "    </tr>\n",
              "    <tr>\n",
              "      <th>37040</th>\n",
              "      <td>37040</td>\n",
              "      <td>Extremely Negative</td>\n",
              "      <td>0</td>\n",
              "    </tr>\n",
              "  </tbody>\n",
              "</table>\n",
              "<p>37041 rows × 3 columns</p>\n",
              "</div>"
            ],
            "text/plain": [
              "          Id           Sentiment  Label\n",
              "0          0  Extremely Positive      4\n",
              "1          1            Negative      1\n",
              "2          2             Neutral      2\n",
              "3          3            Negative      1\n",
              "4          4  Extremely Negative      0\n",
              "...      ...                 ...    ...\n",
              "37036  37036            Negative      1\n",
              "37037  37037            Negative      1\n",
              "37038  37038  Extremely Negative      0\n",
              "37039  37039             Neutral      2\n",
              "37040  37040  Extremely Negative      0\n",
              "\n",
              "[37041 rows x 3 columns]"
            ]
          },
          "metadata": {
            "tags": []
          },
          "execution_count": 12
        }
      ]
    },
    {
      "cell_type": "code",
      "metadata": {
        "colab": {
          "base_uri": "https://localhost:8080/",
          "height": 145
        },
        "id": "vccdMgmmZqCY",
        "outputId": "9d506c97-0a69-4ce0-c846-ad064067b22a"
      },
      "source": [
        "#Class Distribution\n",
        "class_df = EDA.groupby('Sentiment').count()['Label'].reset_index().sort_values(by='Label',ascending=False)\n",
        "class_df.style.background_gradient(cmap='PiYG')"
      ],
      "execution_count": 13,
      "outputs": [
        {
          "output_type": "execute_result",
          "data": {
            "text/html": [
              "<style  type=\"text/css\" >\n",
              "#T_5a6f352c_92b4_11eb_9fec_0242ac1c0002row0_col1{\n",
              "            background-color:  #276419;\n",
              "            color:  #f1f1f1;\n",
              "        }#T_5a6f352c_92b4_11eb_9fec_0242ac1c0002row1_col1{\n",
              "            background-color:  #9ccf64;\n",
              "            color:  #000000;\n",
              "        }#T_5a6f352c_92b4_11eb_9fec_0242ac1c0002row2_col1{\n",
              "            background-color:  #fad4e9;\n",
              "            color:  #000000;\n",
              "        }#T_5a6f352c_92b4_11eb_9fec_0242ac1c0002row3_col1{\n",
              "            background-color:  #db6ca8;\n",
              "            color:  #000000;\n",
              "        }#T_5a6f352c_92b4_11eb_9fec_0242ac1c0002row4_col1{\n",
              "            background-color:  #8e0152;\n",
              "            color:  #f1f1f1;\n",
              "        }</style><table id=\"T_5a6f352c_92b4_11eb_9fec_0242ac1c0002\" ><thead>    <tr>        <th class=\"blank level0\" ></th>        <th class=\"col_heading level0 col0\" >Sentiment</th>        <th class=\"col_heading level0 col1\" >Label</th>    </tr></thead><tbody>\n",
              "                <tr>\n",
              "                        <th id=\"T_5a6f352c_92b4_11eb_9fec_0242ac1c0002level0_row0\" class=\"row_heading level0 row0\" >4</th>\n",
              "                        <td id=\"T_5a6f352c_92b4_11eb_9fec_0242ac1c0002row0_col0\" class=\"data row0 col0\" >Positive</td>\n",
              "                        <td id=\"T_5a6f352c_92b4_11eb_9fec_0242ac1c0002row0_col1\" class=\"data row0 col1\" >10282</td>\n",
              "            </tr>\n",
              "            <tr>\n",
              "                        <th id=\"T_5a6f352c_92b4_11eb_9fec_0242ac1c0002level0_row1\" class=\"row_heading level0 row1\" >2</th>\n",
              "                        <td id=\"T_5a6f352c_92b4_11eb_9fec_0242ac1c0002row1_col0\" class=\"data row1 col0\" >Negative</td>\n",
              "                        <td id=\"T_5a6f352c_92b4_11eb_9fec_0242ac1c0002row1_col1\" class=\"data row1 col1\" >8930</td>\n",
              "            </tr>\n",
              "            <tr>\n",
              "                        <th id=\"T_5a6f352c_92b4_11eb_9fec_0242ac1c0002level0_row2\" class=\"row_heading level0 row2\" >3</th>\n",
              "                        <td id=\"T_5a6f352c_92b4_11eb_9fec_0242ac1c0002row2_col0\" class=\"data row2 col0\" >Neutral</td>\n",
              "                        <td id=\"T_5a6f352c_92b4_11eb_9fec_0242ac1c0002row2_col1\" class=\"data row2 col1\" >6930</td>\n",
              "            </tr>\n",
              "            <tr>\n",
              "                        <th id=\"T_5a6f352c_92b4_11eb_9fec_0242ac1c0002level0_row3\" class=\"row_heading level0 row3\" >1</th>\n",
              "                        <td id=\"T_5a6f352c_92b4_11eb_9fec_0242ac1c0002row3_col0\" class=\"data row3 col0\" >Extremely Positive</td>\n",
              "                        <td id=\"T_5a6f352c_92b4_11eb_9fec_0242ac1c0002row3_col1\" class=\"data row3 col1\" >5953</td>\n",
              "            </tr>\n",
              "            <tr>\n",
              "                        <th id=\"T_5a6f352c_92b4_11eb_9fec_0242ac1c0002level0_row4\" class=\"row_heading level0 row4\" >0</th>\n",
              "                        <td id=\"T_5a6f352c_92b4_11eb_9fec_0242ac1c0002row4_col0\" class=\"data row4 col0\" >Extremely Negative</td>\n",
              "                        <td id=\"T_5a6f352c_92b4_11eb_9fec_0242ac1c0002row4_col1\" class=\"data row4 col1\" >4946</td>\n",
              "            </tr>\n",
              "    </tbody></table>"
            ],
            "text/plain": [
              "<pandas.io.formats.style.Styler at 0x7f15de876c90>"
            ]
          },
          "metadata": {
            "tags": []
          },
          "execution_count": 13
        }
      ]
    },
    {
      "cell_type": "code",
      "metadata": {
        "colab": {
          "base_uri": "https://localhost:8080/",
          "height": 256
        },
        "id": "7ZfMyaPpZpYk",
        "outputId": "332fc8dd-6c4b-4563-a349-d837b853c500"
      },
      "source": [
        "#Pie Chart\n",
        "percent_class=class_df.Label\n",
        "labels= class_df.Sentiment\n",
        "\n",
        "colors = ['#17C37B','#FF6347','#FACA0C']\n",
        "my_pie,_,_ = plt.pie(percent_class,radius = 1.2,labels=labels,colors=colors,autopct=\"%.1f%%\")\n",
        "\n",
        "plt.setp(my_pie, width=0.6, edgecolor='white') \n",
        "plt.show()"
      ],
      "execution_count": 14,
      "outputs": [
        {
          "output_type": "display_data",
          "data": {
            "image/png": "[encoded data removed]",
            "text/plain": [
              "<Figure size 432x288 with 1 Axes>"
            ]
          },
          "metadata": {
            "tags": []
          }
        }
      ]
    },
    {
      "cell_type": "code",
      "metadata": {
        "colab": {
          "base_uri": "https://localhost:8080/",
          "height": 525
        },
        "id": "1WXgh2yRbCqo",
        "outputId": "b2032b49-7d54-4d5c-c3ca-1ca96d8d8e64"
      },
      "source": [
        "#Visualization of Sentiment Classes\n",
        "sns.set(rc={'figure.figsize':(8,6)})\n",
        "sns.countplot(nlabel_data['Label'])"
      ],
      "execution_count": 15,
      "outputs": [
        {
          "output_type": "stream",
          "text": [
            "/usr/local/lib/python3.7/dist-packages/seaborn/_decorators.py:43: FutureWarning: Pass the following variable as a keyword arg: x. From version 0.12, the only valid positional argument will be `data`, and passing other arguments without an explicit keyword will result in an error or misinterpretation.\n",
            "  FutureWarning\n"
          ],
          "name": "stderr"
        },
        {
          "output_type": "execute_result",
          "data": {
            "text/plain": [
              "<matplotlib.axes._subplots.AxesSubplot at 0x7f15dddaf710>"
            ]
          },
          "metadata": {
            "tags": []
          },
          "execution_count": 15
        },
        {
          "output_type": "display_data",
          "data": {
            "image/png": "[encoded data removed]",
            "text/plain": [
              "<Figure size 576x432 with 1 Axes>"
            ]
          },
          "metadata": {
            "tags": []
          }
        }
      ]
    },
    {
      "cell_type": "markdown",
      "metadata": {
        "id": "vVYu2ZNzcMFt"
      },
      "source": [
        "# **DATA PREPROCESSING**\n",
        "Performing Basic Cleaning of the Statement in the Tweets."
      ]
    },
    {
      "cell_type": "code",
      "metadata": {
        "id": "4rthQwfDdZw9"
      },
      "source": [
        "#Importing Necessary Libraries for Text Processing\n",
        "import nltk\n",
        "from nltk.corpus import stopwords\n",
        "from nltk.stem.porter import PorterStemmer\n",
        "from wordcloud import WordCloud,STOPWORDS\n",
        "from nltk.stem import WordNetLemmatizer\n",
        "from nltk.tokenize import word_tokenize\n",
        "import re,string\n",
        "from keras.preprocessing import text, sequence\n",
        "from sklearn.metrics import classification_report,confusion_matrix,accuracy_score\n",
        "from sklearn.model_selection import train_test_split\n",
        "from string import punctuation\n",
        "import keras\n",
        "from keras.models import Sequential\n",
        "import tensorflow as tf\n",
        "from tensorflow.keras.preprocessing.text import Tokenizer\n",
        "from tensorflow.keras.preprocessing.sequence import pad_sequences\n"
      ],
      "execution_count": 16,
      "outputs": []
    },
    {
      "cell_type": "markdown",
      "metadata": {
        "id": "woFFpd6XQOIz"
      },
      "source": [
        "**STOPWORDS**"
      ]
    },
    {
      "cell_type": "code",
      "metadata": {
        "colab": {
          "base_uri": "https://localhost:8080/"
        },
        "id": "FswS0A0HfmAP",
        "outputId": "569a8e68-b760-417c-96e3-84af0dacd558"
      },
      "source": [
        "#Downloading Stopwords\n",
        "nltk.download('stopwords')"
      ],
      "execution_count": 17,
      "outputs": [
        {
          "output_type": "stream",
          "text": [
            "[nltk_data] Downloading package stopwords to /root/nltk_data...\n",
            "[nltk_data]   Package stopwords is already up-to-date!\n"
          ],
          "name": "stdout"
        },
        {
          "output_type": "execute_result",
          "data": {
            "text/plain": [
              "True"
            ]
          },
          "metadata": {
            "tags": []
          },
          "execution_count": 17
        }
      ]
    },
    {
      "cell_type": "code",
      "metadata": {
        "colab": {
          "base_uri": "https://localhost:8080/"
        },
        "id": "WyxymisFetT5",
        "outputId": "53ceb68b-16b1-4ecb-9e29-4d104c801cab"
      },
      "source": [
        "#Load English Stop Words\n",
        "stopword = stopwords.words('english')\n",
        "print(\"Stopwords:\",stopword)"
      ],
      "execution_count": 18,
      "outputs": [
        {
          "output_type": "stream",
          "text": [
            "Stopwords: ['i', 'me', 'my', 'myself', 'we', 'our', 'ours', 'ourselves', 'you', \"you're\", \"you've\", \"you'll\", \"you'd\", 'your', 'yours', 'yourself', 'yourselves', 'he', 'him', 'his', 'himself', 'she', \"she's\", 'her', 'hers', 'herself', 'it', \"it's\", 'its', 'itself', 'they', 'them', 'their', 'theirs', 'themselves', 'what', 'which', 'who', 'whom', 'this', 'that', \"that'll\", 'these', 'those', 'am', 'is', 'are', 'was', 'were', 'be', 'been', 'being', 'have', 'has', 'had', 'having', 'do', 'does', 'did', 'doing', 'a', 'an', 'the', 'and', 'but', 'if', 'or', 'because', 'as', 'until', 'while', 'of', 'at', 'by', 'for', 'with', 'about', 'against', 'between', 'into', 'through', 'during', 'before', 'after', 'above', 'below', 'to', 'from', 'up', 'down', 'in', 'out', 'on', 'off', 'over', 'under', 'again', 'further', 'then', 'once', 'here', 'there', 'when', 'where', 'why', 'how', 'all', 'any', 'both', 'each', 'few', 'more', 'most', 'other', 'some', 'such', 'no', 'nor', 'not', 'only', 'own', 'same', 'so', 'than', 'too', 'very', 's', 't', 'can', 'will', 'just', 'don', \"don't\", 'should', \"should've\", 'now', 'd', 'll', 'm', 'o', 're', 've', 'y', 'ain', 'aren', \"aren't\", 'couldn', \"couldn't\", 'didn', \"didn't\", 'doesn', \"doesn't\", 'hadn', \"hadn't\", 'hasn', \"hasn't\", 'haven', \"haven't\", 'isn', \"isn't\", 'ma', 'mightn', \"mightn't\", 'mustn', \"mustn't\", 'needn', \"needn't\", 'shan', \"shan't\", 'shouldn', \"shouldn't\", 'wasn', \"wasn't\", 'weren', \"weren't\", 'won', \"won't\", 'wouldn', \"wouldn't\"]\n"
          ],
          "name": "stdout"
        }
      ]
    },
    {
      "cell_type": "markdown",
      "metadata": {
        "id": "V_PYnGW8hVUC"
      },
      "source": [
        "Creating the Funtion to Clean the Twitter Message like Removing URL, Removing Mentions, Hashtags, Digits, HTML Tags and Removing the Connecting words included in 'English'Stop words."
      ]
    },
    {
      "cell_type": "code",
      "metadata": {
        "id": "Fgz8lEcrfp-L"
      },
      "source": [
        "#Tweet Clean Function\n",
        "def tweet_clean(twee):\n",
        "    #Remove URL\n",
        "    twee = re.sub(r'https?://\\S+|www\\.\\S+', \" \", twee)\n",
        "\n",
        "    #Remove Mentions\n",
        "    twee = re.sub(r'@\\w+',' ',twee)\n",
        "\n",
        "    #Remove Punctuation\n",
        "    twee= re.sub(r'[^\\w\\s\\d]',' ',twee)\n",
        "\n",
        "    #Remove Digits\n",
        "    twee = re.sub(r'\\d+', ' ', twee)\n",
        "\n",
        "    #Remove HTML tags\n",
        "    twee = re.sub('r<.*?>',' ', twee)\n",
        "\n",
        "    #Remove Hastags\n",
        "    twee = re.sub(r'#\\w+', ' ', twee)\n",
        "\n",
        "    #Remove Stop Words \n",
        "    twee = twee.split()\n",
        "    #twee = \" \".join(twee)\n",
        "    \n",
        "    twee = \" \".join([word for word in twee if not word in stopword])\n",
        "\n",
        "    return twee"
      ],
      "execution_count": 19,
      "outputs": []
    },
    {
      "cell_type": "code",
      "metadata": {
        "id": "o7uaRfa5iIPT"
      },
      "source": [
        "#Applying Tweet Clean Function to Both Files\n",
        "tweet_data['Tweet'] = tweet_data['Tweet'].astype(str).apply(lambda x: tweet_clean(x))\n",
        "kaggle_data['Tweet'] = kaggle_data['Tweet'].astype(str).apply(lambda x: tweet_clean(x))"
      ],
      "execution_count": 20,
      "outputs": []
    },
    {
      "cell_type": "code",
      "metadata": {
        "colab": {
          "base_uri": "https://localhost:8080/"
        },
        "id": "G5zv36GUipO4",
        "outputId": "eb8576ae-f62d-47d4-b96b-613abb8de4af"
      },
      "source": [
        "#Updated Sentiment Data\n",
        "tweet_data[\"Tweet\"]"
      ],
      "execution_count": 21,
      "outputs": [
        {
          "output_type": "execute_result",
          "data": {
            "text/plain": [
              "0        Gaisss Please read please limit go outside ple...\n",
              "1        Today week lockdown lot confectionary stores r...\n",
              "2        Tuskys partners Amref provide ground health ed...\n",
              "3        u ur grocery shopping like regular person u st...\n",
              "4        UK Critical Care Nurse Cries Empty SuperMarket...\n",
              "                               ...                        \n",
              "37036    Minnesota classifies grocery store workers eme...\n",
              "37037    US Senator asked information leveragedloans pr...\n",
              "37038    Just commented Poll Are online shopping normal...\n",
              "37039    My wife got laid yesterday small retail store ...\n",
              "37040    Humanity doomed coronavirus coronacrisis toile...\n",
              "Name: Tweet, Length: 37041, dtype: object"
            ]
          },
          "metadata": {
            "tags": []
          },
          "execution_count": 21
        }
      ]
    },
    {
      "cell_type": "code",
      "metadata": {
        "colab": {
          "base_uri": "https://localhost:8080/"
        },
        "id": "O9dyJ5HwEUlQ",
        "outputId": "f20b81b2-94e7-4bbb-ec8d-fdf09c8e039f"
      },
      "source": [
        "#Converting Tweets to String for Stemming and Word Net Lemmatizer \n",
        "tweets = tweet_data[\"Tweet\"]\n",
        "print(tweets)"
      ],
      "execution_count": 22,
      "outputs": [
        {
          "output_type": "stream",
          "text": [
            "0        Gaisss Please read please limit go outside ple...\n",
            "1        Today week lockdown lot confectionary stores r...\n",
            "2        Tuskys partners Amref provide ground health ed...\n",
            "3        u ur grocery shopping like regular person u st...\n",
            "4        UK Critical Care Nurse Cries Empty SuperMarket...\n",
            "                               ...                        \n",
            "37036    Minnesota classifies grocery store workers eme...\n",
            "37037    US Senator asked information leveragedloans pr...\n",
            "37038    Just commented Poll Are online shopping normal...\n",
            "37039    My wife got laid yesterday small retail store ...\n",
            "37040    Humanity doomed coronavirus coronacrisis toile...\n",
            "Name: Tweet, Length: 37041, dtype: object\n"
          ],
          "name": "stdout"
        }
      ]
    },
    {
      "cell_type": "markdown",
      "metadata": {
        "id": "zlXXggs6QUUt"
      },
      "source": [
        "**PORTER STEMMER** \n",
        "The Porter stemming algorithm (or 'Porter stemmer') is a process for removing the commoner morphological and inflexional endings from words in English. \n"
      ]
    },
    {
      "cell_type": "code",
      "metadata": {
        "id": "qZP6rF2KD7gA"
      },
      "source": [
        "#Porter Stemmer\n",
        "stemmer=nltk.stem.PorterStemmer()\n",
        "\" \".join(stemmer.stem(token) for token in tweets)"
      ],
      "execution_count": null,
      "outputs": []
    },
    {
      "cell_type": "code",
      "metadata": {
        "colab": {
          "base_uri": "https://localhost:8080/",
          "height": 54
        },
        "id": "aENV4c1d2kS_",
        "outputId": "f16c89a2-9667-48f0-9fb4-ac2f2c3d37f5"
      },
      "source": [
        "tweets[0]"
      ],
      "execution_count": 24,
      "outputs": [
        {
          "output_type": "execute_result",
          "data": {
            "application/vnd.google.colaboratory.intrinsic+json": {
              "type": "string"
            },
            "text/plain": [
              "'Gaisss Please read please limit go outside please please always wash hands always use hand sanitizer And please get ready stock food'"
            ]
          },
          "metadata": {
            "tags": []
          },
          "execution_count": 24
        }
      ]
    },
    {
      "cell_type": "markdown",
      "metadata": {
        "id": "9mHpvTTFUQQ8"
      },
      "source": [
        "**WORDNET LEMMATIZER** \n",
        "Lemmatize using WordNet's built-in morphy function. Returns the input word unchanged if it cannot be found in WordNet."
      ]
    },
    {
      "cell_type": "code",
      "metadata": {
        "id": "pibnWoMNFNFn"
      },
      "source": [
        "#Downloading Wordnet\n",
        "#nltk.download('wordnet')"
      ],
      "execution_count": 25,
      "outputs": []
    },
    {
      "cell_type": "code",
      "metadata": {
        "id": "-pRAnH_BEr8D"
      },
      "source": [
        "#Word Net Lemmatizer\n",
        "#stemmer=nltk.stem.WordNetLemmatizer()\n",
        "#\" \".join(stemmer.lemmatize(token) for token in tweets)"
      ],
      "execution_count": 26,
      "outputs": []
    },
    {
      "cell_type": "code",
      "metadata": {
        "colab": {
          "base_uri": "https://localhost:8080/",
          "height": 54
        },
        "id": "7wc_jFb4IleE",
        "outputId": "aec668ce-155a-4be7-e6a3-8ab2039b2c82"
      },
      "source": [
        "tweets[5]"
      ],
      "execution_count": 27,
      "outputs": [
        {
          "output_type": "execute_result",
          "data": {
            "application/vnd.google.colaboratory.intrinsic+json": {
              "type": "string"
            },
            "text/plain": [
              "'Makes heart ache elderly make disease either people want yo starve force every day expose bulk buy selfish b ds stopthepeak stayhome'"
            ]
          },
          "metadata": {
            "tags": []
          },
          "execution_count": 27
        }
      ]
    },
    {
      "cell_type": "markdown",
      "metadata": {
        "id": "jR38d3hcqA_s"
      },
      "source": [
        "**TOKEN INITIALIZATION**"
      ]
    },
    {
      "cell_type": "code",
      "metadata": {
        "id": "Y_zBKkqu5md8"
      },
      "source": [
        "#Splitting the Data set into Dependent and Independent Features\n",
        "X=tweets\n",
        "y=nlabel_data['Label']"
      ],
      "execution_count": 28,
      "outputs": []
    },
    {
      "cell_type": "code",
      "metadata": {
        "colab": {
          "base_uri": "https://localhost:8080/"
        },
        "id": "4ZJbgmR4xSq6",
        "outputId": "50189db0-2d3c-4c33-fc66-125fa815c011"
      },
      "source": [
        "#Maximum Length of Sequence\n",
        "max_len = np.max(X.apply(lambda x :len(x)))\n",
        "print(\"Maximum length of sequence:\",max_len)"
      ],
      "execution_count": 29,
      "outputs": [
        {
          "output_type": "stream",
          "text": [
            "Maximum length of sequence: 286\n"
          ],
          "name": "stdout"
        }
      ]
    },
    {
      "cell_type": "code",
      "metadata": {
        "colab": {
          "base_uri": "https://localhost:8080/"
        },
        "id": "tBreavpAvDlg",
        "outputId": "37e6de94-876c-43f0-e4f7-0ff2ade7e3f7"
      },
      "source": [
        "#Initializing Tokens\n",
        "tokenizer = Tokenizer()\n",
        "\n",
        "#Text to Sequence\n",
        "tokenizer.fit_on_texts(X)\n",
        "vocab_length = len(tokenizer.word_index)+1\n",
        "print(\"Length of Word Index:\",vocab_length)\n",
        "X = tokenizer.texts_to_sequences(X)\n",
        "\n",
        "#Post Padding\n",
        "X = pad_sequences(X,maxlen=max_len, padding='post')"
      ],
      "execution_count": 30,
      "outputs": [
        {
          "output_type": "stream",
          "text": [
            "Length of Word Index: 40786\n"
          ],
          "name": "stdout"
        }
      ]
    },
    {
      "cell_type": "code",
      "metadata": {
        "colab": {
          "base_uri": "https://localhost:8080/"
        },
        "id": "Wdn1yWHmhoKW",
        "outputId": "873e9948-d32a-42f3-ab55-2cda38fb26da"
      },
      "source": [
        "#Array of Tweet Data\n",
        "X"
      ],
      "execution_count": 31,
      "outputs": [
        {
          "output_type": "execute_result",
          "data": {
            "text/plain": [
              "array([[19278,    40,   128, ...,     0,     0,     0],\n",
              "       [   48,    83,    65, ...,     0,     0,     0],\n",
              "       [14008,  2042, 19281, ...,     0,     0,     0],\n",
              "       ...,\n",
              "       [  154, 10652,  2695, ...,     0,     0,     0],\n",
              "       [  104,  1072,   139, ...,     0,     0,     0],\n",
              "       [ 1367,  9918,     2, ...,     0,     0,     0]], dtype=int32)"
            ]
          },
          "metadata": {
            "tags": []
          },
          "execution_count": 31
        }
      ]
    },
    {
      "cell_type": "code",
      "metadata": {
        "colab": {
          "base_uri": "https://localhost:8080/"
        },
        "id": "4r7FU05yqVvN",
        "outputId": "0e1d8de8-1d27-4839-de4b-04e784aa00cf"
      },
      "source": [
        "#Shape of X\n",
        "X.shape"
      ],
      "execution_count": 32,
      "outputs": [
        {
          "output_type": "execute_result",
          "data": {
            "text/plain": [
              "(37041, 286)"
            ]
          },
          "metadata": {
            "tags": []
          },
          "execution_count": 32
        }
      ]
    },
    {
      "cell_type": "code",
      "metadata": {
        "id": "9APrYsDDLto8"
      },
      "source": [
        "#Transforming a class vector (integers) to binary class matrix.\n",
        "from tensorflow.keras.utils import to_categorical\n",
        "y = to_categorical(y)"
      ],
      "execution_count": 33,
      "outputs": []
    },
    {
      "cell_type": "markdown",
      "metadata": {
        "id": "xU4dONvZCsTv"
      },
      "source": [
        "# **MODEL SELECTION**\n",
        "Implementing 2 NLP Models such as RNN Model with GRU and LSTM Architecture"
      ]
    },
    {
      "cell_type": "code",
      "metadata": {
        "id": "gspl7iozpI0R"
      },
      "source": [
        "#Performing Test-Train-Valid Split in the dataset\n",
        "from sklearn.model_selection import train_test_split\n",
        "X_train, X_test, y_train, y_test = train_test_split(X, y, test_size = 0.20, shuffle=True, random_state = 42)\n",
        "X_val, X_test, y_val, y_test = train_test_split(X_test, y_test, test_size=0.50, random_state=42)"
      ],
      "execution_count": 34,
      "outputs": []
    },
    {
      "cell_type": "code",
      "metadata": {
        "colab": {
          "base_uri": "https://localhost:8080/"
        },
        "id": "aDN_NwbVrlXP",
        "outputId": "ff7cc8d6-03c7-4c5f-f773-74ee0d84c052"
      },
      "source": [
        "#Shape of the Training and Testing Data\n",
        "X_train.shape, X_test.shape,  y_train.shape, y_test.shape #,y_val.shape,X_val.shape"
      ],
      "execution_count": 35,
      "outputs": [
        {
          "output_type": "execute_result",
          "data": {
            "text/plain": [
              "((29632, 286), (3705, 286), (29632, 5), (3705, 5))"
            ]
          },
          "metadata": {
            "tags": []
          },
          "execution_count": 35
        }
      ]
    },
    {
      "cell_type": "code",
      "metadata": {
        "id": "ukfB1z3AoUam"
      },
      "source": [
        "#Dimension of Embedding\n",
        "embedding_dim = 32"
      ],
      "execution_count": 36,
      "outputs": []
    },
    {
      "cell_type": "markdown",
      "metadata": {
        "id": "ZRiNJpaa2QxF"
      },
      "source": [
        "**RECURRENT NEURAL NET: GRU LAYER**"
      ]
    },
    {
      "cell_type": "code",
      "metadata": {
        "colab": {
          "base_uri": "https://localhost:8080/"
        },
        "id": "KWfztyeh0pcJ",
        "outputId": "e8371e40-d110-45cf-bc56-597d2b909c41"
      },
      "source": [
        "model = tf.keras.Sequential([\n",
        "    tf.keras.layers.Embedding(vocab_length, embedding_dim, input_length=max_len),\n",
        "    tf.keras.layers.Bidirectional(tf.keras.layers.GRU(256, return_sequences=True)),\n",
        "    #tf.keras.layers.Bidirectional(tf.keras.layers.GRU(64, return_sequences=True)),\n",
        "    tf.keras.layers.GlobalAveragePooling1D(),\n",
        "    tf.keras.layers.Dense(64, activation='relu'),\n",
        "    #tf.keras.layers.Dropout(0.4),\n",
        "    tf.keras.layers.Dense(5, activation='softmax')\n",
        "])\n",
        "#Model Summary of GRU Layer Architecture\n",
        "model.summary()"
      ],
      "execution_count": 37,
      "outputs": [
        {
          "output_type": "stream",
          "text": [
            "Model: \"sequential\"\n",
            "_________________________________________________________________\n",
            "Layer (type)                 Output Shape              Param #   \n",
            "=================================================================\n",
            "embedding (Embedding)        (None, 286, 32)           1305152   \n",
            "_________________________________________________________________\n",
            "bidirectional (Bidirectional (None, 286, 512)          445440    \n",
            "_________________________________________________________________\n",
            "global_average_pooling1d (Gl (None, 512)               0         \n",
            "_________________________________________________________________\n",
            "dense (Dense)                (None, 64)                32832     \n",
            "_________________________________________________________________\n",
            "dense_1 (Dense)              (None, 5)                 325       \n",
            "=================================================================\n",
            "Total params: 1,783,749\n",
            "Trainable params: 1,783,749\n",
            "Non-trainable params: 0\n",
            "_________________________________________________________________\n"
          ],
          "name": "stdout"
        }
      ]
    },
    {
      "cell_type": "code",
      "metadata": {
        "id": "OiFmeJ7D03p2"
      },
      "source": [
        "#Model Compilation \n",
        "from tensorflow.keras.callbacks import EarlyStopping\n",
        "from tensorflow.keras.optimizers import Adam\n",
        "opt = Adam(lr=0.001)\n",
        "model.compile(optimizer=opt,\n",
        "               loss=tf.keras.losses.CategoricalCrossentropy(from_logits=False),\n",
        "               metrics=[\"accuracy\"\n",
        "                       #tf.metrics.AUC(multi_label=True,name='auc_multi',label_weights=[0.1,0.4,0.6]),\n",
        "               ])"
      ],
      "execution_count": 38,
      "outputs": []
    },
    {
      "cell_type": "code",
      "metadata": {
        "colab": {
          "base_uri": "https://localhost:8080/"
        },
        "id": "ffTHFtEm1KgN",
        "outputId": "9b439fc0-56dd-4d1a-f5e7-30c90343152e"
      },
      "source": [
        "#Fitting the Model\n",
        "gru=model.fit(X_train, y_train,\n",
        "               callbacks=[EarlyStopping(monitor='val_loss', mode='min' , verbose =1, patience = 2)],\n",
        "          validation_data=(X_test,y_test),\n",
        "          epochs=10)"
      ],
      "execution_count": 39,
      "outputs": [
        {
          "output_type": "stream",
          "text": [
            "Epoch 1/10\n",
            "926/926 [==============================] - 43s 41ms/step - loss: 1.5534 - accuracy: 0.2880 - val_loss: 1.1231 - val_accuracy: 0.5460\n",
            "Epoch 2/10\n",
            "926/926 [==============================] - 37s 40ms/step - loss: 0.9283 - accuracy: 0.6372 - val_loss: 0.7796 - val_accuracy: 0.7282\n",
            "Epoch 3/10\n",
            "926/926 [==============================] - 37s 40ms/step - loss: 0.5623 - accuracy: 0.8046 - val_loss: 0.7144 - val_accuracy: 0.7501\n",
            "Epoch 4/10\n",
            "926/926 [==============================] - 37s 40ms/step - loss: 0.3852 - accuracy: 0.8746 - val_loss: 0.7483 - val_accuracy: 0.7490\n",
            "Epoch 5/10\n",
            "926/926 [==============================] - 37s 40ms/step - loss: 0.2879 - accuracy: 0.9092 - val_loss: 0.8441 - val_accuracy: 0.7493\n",
            "Epoch 00005: early stopping\n"
          ],
          "name": "stdout"
        }
      ]
    },
    {
      "cell_type": "markdown",
      "metadata": {
        "id": "oWXk81hRl0Ee"
      },
      "source": [
        "**RECURRENT NEURAL NETWORK : LSTM LAYER**"
      ]
    },
    {
      "cell_type": "code",
      "metadata": {
        "colab": {
          "base_uri": "https://localhost:8080/"
        },
        "id": "c7wQFsO6lzyh",
        "outputId": "7087391f-ddce-4165-cafe-416e7eb1a784"
      },
      "source": [
        "model2 = tf.keras.Sequential([\n",
        "    tf.keras.layers.Embedding(vocab_length, embedding_dim, input_length=max_len),\n",
        "    tf.keras.layers.Bidirectional(tf.keras.layers.LSTM(256,  return_sequences=True)),\n",
        "    tf.keras.layers.Bidirectional(tf.keras.layers.LSTM(128, return_sequences=False)),\n",
        "    tf.keras.layers.Dense(64, activation='relu'),\n",
        "    #tf.keras.layers.Dropout(0.5),\n",
        "    tf.keras.layers.Dense(5, activation='softmax')\n",
        "])\n",
        "#Model Summary of LSTM Layer Architecture\n",
        "model2.summary()"
      ],
      "execution_count": 40,
      "outputs": [
        {
          "output_type": "stream",
          "text": [
            "Model: \"sequential_1\"\n",
            "_________________________________________________________________\n",
            "Layer (type)                 Output Shape              Param #   \n",
            "=================================================================\n",
            "embedding_1 (Embedding)      (None, 286, 32)           1305152   \n",
            "_________________________________________________________________\n",
            "bidirectional_1 (Bidirection (None, 286, 512)          591872    \n",
            "_________________________________________________________________\n",
            "bidirectional_2 (Bidirection (None, 256)               656384    \n",
            "_________________________________________________________________\n",
            "dense_2 (Dense)              (None, 64)                16448     \n",
            "_________________________________________________________________\n",
            "dense_3 (Dense)              (None, 5)                 325       \n",
            "=================================================================\n",
            "Total params: 2,570,181\n",
            "Trainable params: 2,570,181\n",
            "Non-trainable params: 0\n",
            "_________________________________________________________________\n"
          ],
          "name": "stdout"
        }
      ]
    },
    {
      "cell_type": "code",
      "metadata": {
        "id": "PqJo8lMclzgy"
      },
      "source": [
        "\n",
        "#Model Compilation \n",
        "from tensorflow.keras.callbacks import EarlyStopping\n",
        "from tensorflow.keras.optimizers import Adam\n",
        "opt = Adam(lr=0.001)\n",
        "model2.compile(optimizer=opt,\n",
        "               loss=tf.keras.losses.CategoricalCrossentropy(from_logits=False),\n",
        "               metrics=[\"accuracy\"\n",
        "                       #tf.metrics.AUC(multi_label=True,name='auc_multi',label_weights=[0.1,0.4,0.6]),\n",
        "               ])"
      ],
      "execution_count": 41,
      "outputs": []
    },
    {
      "cell_type": "code",
      "metadata": {
        "colab": {
          "base_uri": "https://localhost:8080/"
        },
        "id": "i2d4epCXlzO8",
        "outputId": "ce17919c-bc33-4369-9f1c-df90c71704c6"
      },
      "source": [
        "#Fitting the Model\n",
        "lstm=model2.fit(X_train, y_train,\n",
        "               callbacks=[EarlyStopping(monitor='val_loss', mode='min' , verbose =1, patience = 2)],\n",
        "          validation_data=(X_test,y_test),\n",
        "          epochs=10)"
      ],
      "execution_count": 42,
      "outputs": [
        {
          "output_type": "stream",
          "text": [
            "Epoch 1/10\n",
            "926/926 [==============================] - 74s 75ms/step - loss: 1.3371 - accuracy: 0.4113 - val_loss: 0.7912 - val_accuracy: 0.7112\n",
            "Epoch 2/10\n",
            "926/926 [==============================] - 68s 74ms/step - loss: 0.6187 - accuracy: 0.7789 - val_loss: 0.7096 - val_accuracy: 0.7503\n",
            "Epoch 3/10\n",
            "926/926 [==============================] - 68s 74ms/step - loss: 0.4332 - accuracy: 0.8566 - val_loss: 0.7535 - val_accuracy: 0.7506\n",
            "Epoch 4/10\n",
            "926/926 [==============================] - 68s 74ms/step - loss: 0.3152 - accuracy: 0.8985 - val_loss: 0.7771 - val_accuracy: 0.7476\n",
            "Epoch 00004: early stopping\n"
          ],
          "name": "stdout"
        }
      ]
    },
    {
      "cell_type": "markdown",
      "metadata": {
        "id": "146ag8i_13UU"
      },
      "source": [
        "# **MODEL EVALUATION**\n",
        "Calculating Validation Loss & Accuracy, F1 Macro, Confusion Matrix and Classification Report one by one for each model\n"
      ]
    },
    {
      "cell_type": "markdown",
      "metadata": {
        "id": "zlLHAM1d30AR"
      },
      "source": [
        "**Training-Validation Loss & Accuracy Graphs**"
      ]
    },
    {
      "cell_type": "code",
      "metadata": {
        "id": "ubkFbU8i1pVi"
      },
      "source": [
        "#Validation Loss and Validation Accuracy\n",
        "acc = gru.history['accuracy']\n",
        "val_acc = gru.history['val_accuracy']\n",
        "\n",
        "loss = gru.history['loss']\n",
        "val_loss = gru.history['val_loss']"
      ],
      "execution_count": 43,
      "outputs": []
    },
    {
      "cell_type": "code",
      "metadata": {
        "colab": {
          "base_uri": "https://localhost:8080/"
        },
        "id": "nYLcNyei2lvw",
        "outputId": "65d10190-308e-4ebd-cb88-81edb8228783"
      },
      "source": [
        "print(f\"Accuracy on training data is:- {acc[-1]*100} %\")\n",
        "print(f\"Loss {loss[-1]*100}\")\n",
        "\n",
        "print(f\"Accuracy on validation data is:- {val_acc[-1]*100} %\")\n",
        "print(f\"Loss {val_loss[-1]*100}\")\n"
      ],
      "execution_count": 44,
      "outputs": [
        {
          "output_type": "stream",
          "text": [
            "Accuracy on training data is:- 90.54062962532043 %\n",
            "Loss 29.87000048160553\n",
            "Accuracy on validation data is:- 74.9257743358612 %\n",
            "Loss 84.40727591514587\n"
          ],
          "name": "stdout"
        }
      ]
    },
    {
      "cell_type": "code",
      "metadata": {
        "colab": {
          "base_uri": "https://localhost:8080/",
          "height": 644
        },
        "id": "emSCkou728GM",
        "outputId": "b677c578-1f0a-4efa-a62c-cf794e9867d2"
      },
      "source": [
        "#Plotting Traning and Validation Loss,Accuracy of Models\n",
        "#Loss\n",
        "fig, axs = plt.subplots(2, 1, figsize=(6,10))\n",
        "axs[0].plot(gru.history['loss'])\n",
        "axs[0].plot(gru.history['val_loss'])\n",
        "axs[0].title.set_text('Training Loss vs Validation Loss')\n",
        "axs[0].set_xlabel('Epochs')\n",
        "axs[0].set_ylabel('Loss')\n",
        "axs[0].legend(['Train', 'Val'])\n",
        "\n",
        "#Accuracy\n",
        "axs[1].plot(gru.history['accuracy'])\n",
        "axs[1].plot(gru.history['val_accuracy'])\n",
        "axs[1].title.set_text('Training Accuracy vs Validation Accuracy')\n",
        "axs[1].set_xlabel('Epochs')\n",
        "axs[1].set_ylabel('Accuracy')\n",
        "axs[1].legend(['Train', 'Val'])"
      ],
      "execution_count": 45,
      "outputs": [
        {
          "output_type": "execute_result",
          "data": {
            "text/plain": [
              "<matplotlib.legend.Legend at 0x7f154d72bdd0>"
            ]
          },
          "metadata": {
            "tags": []
          },
          "execution_count": 45
        },
        {
          "output_type": "display_data",
          "data": {
            "image/png": "[encoded data removed]",
            "text/plain": [
              "<Figure size 432x720 with 2 Axes>"
            ]
          },
          "metadata": {
            "tags": []
          }
        }
      ]
    },
    {
      "cell_type": "markdown",
      "metadata": {
        "id": "xTtt4v49Mfbb"
      },
      "source": [
        "**Prediction on Test Data**"
      ]
    },
    {
      "cell_type": "code",
      "metadata": {
        "colab": {
          "base_uri": "https://localhost:8080/"
        },
        "id": "eYZ5FU5227qQ",
        "outputId": "d1da21c9-9dc4-4586-c07e-0e51c5f7b98c"
      },
      "source": [
        "#Making Prediction for each model\n",
        "pred = model.predict_classes(X_test)"
      ],
      "execution_count": 46,
      "outputs": [
        {
          "output_type": "stream",
          "text": [
            "/usr/local/lib/python3.7/dist-packages/tensorflow/python/keras/engine/sequential.py:450: UserWarning: `model.predict_classes()` is deprecated and will be removed after 2021-01-01. Please use instead:* `np.argmax(model.predict(x), axis=-1)`,   if your model does multi-class classification   (e.g. if it uses a `softmax` last-layer activation).* `(model.predict(x) > 0.5).astype(\"int32\")`,   if your model does binary classification   (e.g. if it uses a `sigmoid` last-layer activation).\n",
            "  warnings.warn('`model.predict_classes()` is deprecated and '\n"
          ],
          "name": "stderr"
        }
      ]
    },
    {
      "cell_type": "code",
      "metadata": {
        "colab": {
          "base_uri": "https://localhost:8080/"
        },
        "id": "a2FX9YukDNoA",
        "outputId": "ccdcf583-d53f-4797-93bd-faa710376ec5"
      },
      "source": [
        "#Predicted Output\n",
        "pred"
      ],
      "execution_count": 47,
      "outputs": [
        {
          "output_type": "execute_result",
          "data": {
            "text/plain": [
              "array([3, 1, 3, ..., 2, 3, 1])"
            ]
          },
          "metadata": {
            "tags": []
          },
          "execution_count": 47
        }
      ]
    },
    {
      "cell_type": "code",
      "metadata": {
        "colab": {
          "base_uri": "https://localhost:8080/"
        },
        "id": "UnJm7aLHUS7o",
        "outputId": "49cbbe85-80f4-4eac-a06f-9c8e17ae92c2"
      },
      "source": [
        "#Converting Matrix Labels data to Single Digit\n",
        "slabels=np.argmax(y_test, axis=1)\n",
        "slabels[13]"
      ],
      "execution_count": 48,
      "outputs": [
        {
          "output_type": "execute_result",
          "data": {
            "text/plain": [
              "0"
            ]
          },
          "metadata": {
            "tags": []
          },
          "execution_count": 48
        }
      ]
    },
    {
      "cell_type": "markdown",
      "metadata": {
        "id": "Lm6olx_pzcHQ"
      },
      "source": [
        "**F1 Macro**"
      ]
    },
    {
      "cell_type": "code",
      "metadata": {
        "colab": {
          "base_uri": "https://localhost:8080/"
        },
        "id": "ohxFtphzzjuF",
        "outputId": "28b87a56-cd94-48b9-a12e-9dce081d7773"
      },
      "source": [
        "# Calculating F1-score for Model\n",
        "from sklearn.metrics import f1_score, confusion_matrix, accuracy_score, roc_auc_score\n",
        "print(\"F1-score of RNN GRU Model:\",f1_score(slabels,pred, average='macro'))"
      ],
      "execution_count": 49,
      "outputs": [
        {
          "output_type": "stream",
          "text": [
            "F1-score of RNN GRU Model: 0.7563941729075973\n"
          ],
          "name": "stdout"
        }
      ]
    },
    {
      "cell_type": "markdown",
      "metadata": {
        "id": "VguiOr0J3vtG"
      },
      "source": [
        "**Confusion Matrix**"
      ]
    },
    {
      "cell_type": "code",
      "metadata": {
        "colab": {
          "base_uri": "https://localhost:8080/"
        },
        "id": "UUdYg-uwLw1m",
        "outputId": "2722fa46-754e-4b98-c015-97422e287849"
      },
      "source": [
        "#Confusion Matrix for GRU Layer Model:\n",
        "from sklearn.metrics import confusion_matrix\n",
        "cm = confusion_matrix(slabels, pred)\n",
        "cm"
      ],
      "execution_count": 50,
      "outputs": [
        {
          "output_type": "execute_result",
          "data": {
            "text/plain": [
              "array([[334, 137,   2,  17,   1],\n",
              "       [ 55, 652,  49, 107,   4],\n",
              "       [  4,  84, 561,  64,   4],\n",
              "       [  9, 106,  59, 740,  98],\n",
              "       [  1,  10,   4, 114, 489]])"
            ]
          },
          "metadata": {
            "tags": []
          },
          "execution_count": 50
        }
      ]
    },
    {
      "cell_type": "code",
      "metadata": {
        "colab": {
          "base_uri": "https://localhost:8080/",
          "height": 394
        },
        "id": "LJppQwse27j0",
        "outputId": "6fa13737-847a-43a9-f204-7c85ce3d71c5"
      },
      "source": [
        "#Visualization of Confusion Matrix\n",
        "cm2 = confusion_matrix(slabels, pred,normalize=\"true\")\n",
        "sns.heatmap(cm2,annot=True)"
      ],
      "execution_count": 51,
      "outputs": [
        {
          "output_type": "execute_result",
          "data": {
            "text/plain": [
              "<matplotlib.axes._subplots.AxesSubplot at 0x7f154c3fd690>"
            ]
          },
          "metadata": {
            "tags": []
          },
          "execution_count": 51
        },
        {
          "output_type": "display_data",
          "data": {
            "image/png": "[encoded data removed]",
            "text/plain": [
              "<Figure size 576x432 with 2 Axes>"
            ]
          },
          "metadata": {
            "tags": []
          }
        }
      ]
    },
    {
      "cell_type": "code",
      "metadata": {
        "colab": {
          "base_uri": "https://localhost:8080/"
        },
        "id": "wlmjFJFZDl6u",
        "outputId": "33ef0ade-823e-46b4-d2a7-f9f60ef293ad"
      },
      "source": [
        "#Function Calculate Accuracy\n",
        "def accuracy(confusion_matrix):\n",
        "    diagonal_sum = confusion_matrix.trace()\n",
        "    sum_of_all_elements = confusion_matrix.sum()\n",
        "    return diagonal_sum / sum_of_all_elements \n",
        "print(\"Accuracy of Model:\",accuracy(cm))"
      ],
      "execution_count": 52,
      "outputs": [
        {
          "output_type": "stream",
          "text": [
            "Accuracy of Model: 0.7492577597840756\n"
          ],
          "name": "stdout"
        }
      ]
    },
    {
      "cell_type": "markdown",
      "metadata": {
        "id": "w5p1i1JFMnuN"
      },
      "source": [
        "**AUC Score**"
      ]
    },
    {
      "cell_type": "code",
      "metadata": {
        "colab": {
          "base_uri": "https://localhost:8080/"
        },
        "id": "E2kh-DKbMSRI",
        "outputId": "c9fdc99d-d10b-47ab-944e-b271df4e7509"
      },
      "source": [
        "# Calculating AUC Score for GRU RNN Model\n",
        "print(\"AUC Score of GRU RNN Model:\",roc_auc_score(slabels,model.predict_proba(X_test),multi_class='ovr'))"
      ],
      "execution_count": 53,
      "outputs": [
        {
          "output_type": "stream",
          "text": [
            "/usr/local/lib/python3.7/dist-packages/tensorflow/python/keras/engine/sequential.py:425: UserWarning: `model.predict_proba()` is deprecated and will be removed after 2021-01-01. Please use `model.predict()` instead.\n",
            "  warnings.warn('`model.predict_proba()` is deprecated and '\n"
          ],
          "name": "stderr"
        },
        {
          "output_type": "stream",
          "text": [
            "AUC Score of GRU RNN Model: 0.9319780463172505\n"
          ],
          "name": "stdout"
        }
      ]
    },
    {
      "cell_type": "markdown",
      "metadata": {
        "id": "cnPsWaXx4Zqg"
      },
      "source": [
        "**Classification Report**"
      ]
    },
    {
      "cell_type": "code",
      "metadata": {
        "colab": {
          "base_uri": "https://localhost:8080/"
        },
        "id": "Fbqp4Zls4ZOf",
        "outputId": "9f0ba0d7-eae6-4701-9170-ce1dfe9abe9a"
      },
      "source": [
        "#Classification Report of Model\n",
        "print(classification_report(np.argmax(y_test,1),pred))"
      ],
      "execution_count": 54,
      "outputs": [
        {
          "output_type": "stream",
          "text": [
            "              precision    recall  f1-score   support\n",
            "\n",
            "           0       0.83      0.68      0.75       491\n",
            "           1       0.66      0.75      0.70       867\n",
            "           2       0.83      0.78      0.81       717\n",
            "           3       0.71      0.73      0.72      1012\n",
            "           4       0.82      0.79      0.81       618\n",
            "\n",
            "    accuracy                           0.75      3705\n",
            "   macro avg       0.77      0.75      0.76      3705\n",
            "weighted avg       0.76      0.75      0.75      3705\n",
            "\n"
          ],
          "name": "stdout"
        }
      ]
    },
    {
      "cell_type": "markdown",
      "metadata": {
        "id": "ejn2I019EGiW"
      },
      "source": [
        "**Kaggle Data**"
      ]
    },
    {
      "cell_type": "code",
      "metadata": {
        "colab": {
          "base_uri": "https://localhost:8080/"
        },
        "id": "mLtQnh53EagZ",
        "outputId": "ad9e89d0-b8c1-4ef2-f306-5de2eb26b14f"
      },
      "source": [
        "kaggle=kaggle_data[\"Tweet\"]\n",
        "print(kaggle)"
      ],
      "execution_count": 55,
      "outputs": [
        {
          "output_type": "stream",
          "text": [
            "0       TRENDING New Yorkers encounter empty supermark...\n",
            "1       When I find hand sanitizer Fred Meyer I turned...\n",
            "2                     Find protect loved ones coronavirus\n",
            "3       Panic buying hits NewYork City anxious shopper...\n",
            "4       toiletpaper dunnypaper coronavirus coronavirus...\n",
            "                              ...                        \n",
            "3793    Meanwhile In A Supermarket Israel People dance...\n",
            "3794    Did panic buy lot non perishable items ECHO ne...\n",
            "3795    Asst Prof Economics talking recent research co...\n",
            "3796    Gov need somethings instead biar je rakyat ass...\n",
            "3797    I members committed safety employees end users...\n",
            "Name: Tweet, Length: 3798, dtype: object\n"
          ],
          "name": "stdout"
        }
      ]
    },
    {
      "cell_type": "code",
      "metadata": {
        "colab": {
          "base_uri": "https://localhost:8080/"
        },
        "id": "HbVPMGWkEaNX",
        "outputId": "590ea2b7-a750-4e65-cc8b-53570722ec88"
      },
      "source": [
        "#Maximum Length of Sequence\n",
        "max_len1 = np.max(kaggle.apply(lambda x :len(x)))\n",
        "print(\"Maximum length of sequence:\",max_len1)"
      ],
      "execution_count": 56,
      "outputs": [
        {
          "output_type": "stream",
          "text": [
            "Maximum length of sequence: 265\n"
          ],
          "name": "stdout"
        }
      ]
    },
    {
      "cell_type": "code",
      "metadata": {
        "id": "oP8yh0OBEZ7a"
      },
      "source": [
        " #Text to Sequence\n",
        "kaggle = tokenizer.texts_to_sequences(kaggle)\n",
        "\n",
        "#Post Padding\n",
        "kaggle = pad_sequences(kaggle,maxlen=max_len1, padding='post')"
      ],
      "execution_count": 57,
      "outputs": []
    },
    {
      "cell_type": "code",
      "metadata": {
        "colab": {
          "base_uri": "https://localhost:8080/"
        },
        "id": "Cov7VCL9D4q6",
        "outputId": "3a2594df-ea27-416b-c5b3-4b1be017ed3f"
      },
      "source": [
        "#Predicting the Classification of Kaggle Dataset and converting it into Dataframe\n",
        "kag_label = model.predict_classes(kaggle)\n",
        "kag_predict = pd.DataFrame()\n",
        "kag_predict[\"Predicted\"]=kag_label"
      ],
      "execution_count": 58,
      "outputs": [
        {
          "output_type": "stream",
          "text": [
            "WARNING:tensorflow:Model was constructed with shape (None, 286) for input KerasTensor(type_spec=TensorSpec(shape=(None, 286), dtype=tf.float32, name='embedding_input'), name='embedding_input', description=\"created by layer 'embedding_input'\"), but it was called on an input with incompatible shape (None, 265).\n"
          ],
          "name": "stdout"
        },
        {
          "output_type": "stream",
          "text": [
            "/usr/local/lib/python3.7/dist-packages/tensorflow/python/keras/engine/sequential.py:450: UserWarning: `model.predict_classes()` is deprecated and will be removed after 2021-01-01. Please use instead:* `np.argmax(model.predict(x), axis=-1)`,   if your model does multi-class classification   (e.g. if it uses a `softmax` last-layer activation).* `(model.predict(x) > 0.5).astype(\"int32\")`,   if your model does binary classification   (e.g. if it uses a `sigmoid` last-layer activation).\n",
            "  warnings.warn('`model.predict_classes()` is deprecated and '\n"
          ],
          "name": "stderr"
        }
      ]
    },
    {
      "cell_type": "code",
      "metadata": {
        "colab": {
          "base_uri": "https://localhost:8080/",
          "height": 419
        },
        "id": "p8PtHhz9FiMx",
        "outputId": "57361eea-a47c-45a2-ae86-df4637bbdc01"
      },
      "source": [
        "kag_predict"
      ],
      "execution_count": 59,
      "outputs": [
        {
          "output_type": "execute_result",
          "data": {
            "text/html": [
              "<div>\n",
              "<style scoped>\n",
              "    .dataframe tbody tr th:only-of-type {\n",
              "        vertical-align: middle;\n",
              "    }\n",
              "\n",
              "    .dataframe tbody tr th {\n",
              "        vertical-align: top;\n",
              "    }\n",
              "\n",
              "    .dataframe thead th {\n",
              "        text-align: right;\n",
              "    }\n",
              "</style>\n",
              "<table border=\"1\" class=\"dataframe\">\n",
              "  <thead>\n",
              "    <tr style=\"text-align: right;\">\n",
              "      <th></th>\n",
              "      <th>Predicted</th>\n",
              "    </tr>\n",
              "  </thead>\n",
              "  <tbody>\n",
              "    <tr>\n",
              "      <th>0</th>\n",
              "      <td>1</td>\n",
              "    </tr>\n",
              "    <tr>\n",
              "      <th>1</th>\n",
              "      <td>3</td>\n",
              "    </tr>\n",
              "    <tr>\n",
              "      <th>2</th>\n",
              "      <td>4</td>\n",
              "    </tr>\n",
              "    <tr>\n",
              "      <th>3</th>\n",
              "      <td>1</td>\n",
              "    </tr>\n",
              "    <tr>\n",
              "      <th>4</th>\n",
              "      <td>2</td>\n",
              "    </tr>\n",
              "    <tr>\n",
              "      <th>...</th>\n",
              "      <td>...</td>\n",
              "    </tr>\n",
              "    <tr>\n",
              "      <th>3793</th>\n",
              "      <td>3</td>\n",
              "    </tr>\n",
              "    <tr>\n",
              "      <th>3794</th>\n",
              "      <td>1</td>\n",
              "    </tr>\n",
              "    <tr>\n",
              "      <th>3795</th>\n",
              "      <td>2</td>\n",
              "    </tr>\n",
              "    <tr>\n",
              "      <th>3796</th>\n",
              "      <td>0</td>\n",
              "    </tr>\n",
              "    <tr>\n",
              "      <th>3797</th>\n",
              "      <td>4</td>\n",
              "    </tr>\n",
              "  </tbody>\n",
              "</table>\n",
              "<p>3798 rows × 1 columns</p>\n",
              "</div>"
            ],
            "text/plain": [
              "      Predicted\n",
              "0             1\n",
              "1             3\n",
              "2             4\n",
              "3             1\n",
              "4             2\n",
              "...         ...\n",
              "3793          3\n",
              "3794          1\n",
              "3795          2\n",
              "3796          0\n",
              "3797          4\n",
              "\n",
              "[3798 rows x 1 columns]"
            ]
          },
          "metadata": {
            "tags": []
          },
          "execution_count": 59
        }
      ]
    },
    {
      "cell_type": "code",
      "metadata": {
        "id": "kSdIhWrFEC76"
      },
      "source": [
        "#Converting to CSV Format\n",
        "#kag_predict.to_csv(\"try9.csv\")"
      ],
      "execution_count": 60,
      "outputs": []
    },
    {
      "cell_type": "code",
      "metadata": {
        "id": "ydZmj7VmEDu2"
      },
      "source": [
        "#from google.colab import files\n",
        "#files.download(\"try9.csv\")"
      ],
      "execution_count": 61,
      "outputs": []
    },
    {
      "cell_type": "markdown",
      "metadata": {
        "id": "jfGTth7fNkxf"
      },
      "source": [
        "I have Implemented the Basic Models like Multinomial Naive Bayes and Linear SVM in another notebook due to Runtime Crash issue in Colab."
      ]
    }
  ]
}